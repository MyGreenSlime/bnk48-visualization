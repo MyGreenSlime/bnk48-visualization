{
 "cells": [
  {
   "cell_type": "code",
   "execution_count": 144,
   "metadata": {},
   "outputs": [],
   "source": [
    "import json\n",
    "import requests"
   ]
  },
  {
   "cell_type": "code",
   "execution_count": 148,
   "metadata": {},
   "outputs": [
    {
     "name": "stdout",
     "output_type": "stream",
     "text": [
      "{'error': {'message': \"(#10) To use 'Page Public Content Access', your use of this endpoint must be reviewed and approved by Facebook. To submit this 'Page Public Content Access' feature for review please read our documentation on reviewable features: https://developers.facebook.com/docs/apps/review.\", 'type': 'OAuthException', 'code': 10, 'fbtrace_id': 'AW8NKsWZLPI'}}\n"
     ]
    }
   ],
   "source": [
    "#feed\n",
    "app_token = '889911674525153|4ct9wkdp8lGi8Y_0wE6yPareRKo'\n",
    "token ='EAACEdEose0cBALDP0KWjfFAPHVfOFlkUAheruStZAiSwoqVmhKV7lLAHwgr5hsdF1q56ocmPNIaGFTES7HbcycMZAZCb0ZB9jiIgzxvfL1dOULbvl3MtIiaJsHbB9ENnDfEkrz9u7d46SnA5JZAj6w9xBbF2SdI60tuNax2mZB6C7xLWiqnIzZCyvVTxWw6FiZBDLQEgMUZAgqwZDZD'\n",
    "mefeed = 'https://graph.facebook.com/v3.0/me/feed?access_token='+token\n",
    "re = requests.get(mefeed)\n",
    "feed =  re.json()\n",
    "count = 0\n",
    "while 'paging' in feed:\n",
    "    for f in feed['data']:\n",
    "        print(count)\n",
    "        count+=1\n",
    "        try:\n",
    "            print(f['message'])\n",
    "        except:\n",
    "            pass\n",
    "    mefeed = feed['paging']['next']\n",
    "    re = requests.get(mefeed)\n",
    "    feed =  re.json()\n"
   ]
  },
  {
   "cell_type": "code",
   "execution_count": 139,
   "metadata": {},
   "outputs": [
    {
     "data": {
      "text/plain": [
       "{'error': {'message': 'Error validating access token: Session has expired on Saturday, 26-May-18 10:00:00 PDT. The current time is Saturday, 26-May-18 10:01:52 PDT.',\n",
       "  'type': 'OAuthException',\n",
       "  'code': 190,\n",
       "  'error_subcode': 463,\n",
       "  'fbtrace_id': 'HBKXv5Ok1YU'}}"
      ]
     },
     "execution_count": 139,
     "metadata": {},
     "output_type": "execute_result"
    }
   ],
   "source": [
    "#friends\n",
    "mefriend = 'https://graph.facebook.com/v3.0/me/friends?access_token='+token\n",
    "re = requests.get(mefriend)\n",
    "friend = re.json()\n",
    "for i in friend['data']:\n",
    "    print(i['name'])\n"
   ]
  },
  {
   "cell_type": "code",
   "execution_count": null,
   "metadata": {},
   "outputs": [],
   "source": []
  }
 ],
 "metadata": {
  "kernelspec": {
   "display_name": "Python 3",
   "language": "python",
   "name": "python3"
  },
  "language_info": {
   "codemirror_mode": {
    "name": "ipython",
    "version": 3
   },
   "file_extension": ".py",
   "mimetype": "text/x-python",
   "name": "python",
   "nbconvert_exporter": "python",
   "pygments_lexer": "ipython3",
   "version": "3.6.4"
  }
 },
 "nbformat": 4,
 "nbformat_minor": 2
}
